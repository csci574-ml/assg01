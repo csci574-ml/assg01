{
 "cells": [
  {
   "cell_type": "markdown",
   "metadata": {},
   "source": [
    "# Assignment 01: Python, NumPy, Matplotlib and Pandas (Example Solution)\n",
    "---\n",
    "\n",
    "**Due Date:** Friday 01/24/2025 (by 5pm)"
   ]
  },
  {
   "cell_type": "markdown",
   "metadata": {},
   "source": [
    "**Please fill these in before submitting, just in case I accidentally mix up file names while grading**:\n",
    "\n",
    "Name: Jane Hacker\n",
    "\n",
    "CWID-5: (Last 5 digits of cwid)"
   ]
  },
  {
   "cell_type": "markdown",
   "metadata": {},
   "source": [
    "## Introduction \n",
    "\n",
    "In this assignment you have a set of 4 tasks to perform.  In each case you will be writing Python functions or code to\n",
    "perform the asked for task.  In some cases you need to implement a described function in the `src/assg_tasks.py` file.\n",
    "These function implementations are automatically tested in this notebook and autograded when you submit your\n",
    "assignments to GitHub.  As noted in those cells, you should not modify the cells where these tests are called\n",
    "and performed."
   ]
  },
  {
   "cell_type": "code",
   "execution_count": 1,
   "metadata": {},
   "outputs": [],
   "source": [
    "# The following ipython magic will reload changed file/modules.\n",
    "# So when editing function in source code modules, you should\n",
    "# be able to just rerun the cell, not restart the whole kernel.\n",
    "%load_ext autoreload\n",
    "%autoreload 2"
   ]
  },
  {
   "cell_type": "code",
   "execution_count": 2,
   "metadata": {},
   "outputs": [],
   "source": [
    "# assignment wide imports go here\n",
    "import numpy as np\n",
    "import matplotlib.pyplot as plt\n",
    "import pandas as pd\n",
    "import matplotlib"
   ]
  },
  {
   "cell_type": "code",
   "execution_count": 3,
   "metadata": {},
   "outputs": [],
   "source": [
    "# Import functions/moduls from this project.  We manually set the\n",
    "# PYTHONPATH to append the location to search for this assignments\n",
    "# functions to just ensure the imports are found\n",
    "import sys\n",
    "sys.path.append(\"../src\")\n",
    "\n",
    "# assignment function imports for doctests and github autograding\n",
    "# these are required for assignment autograding\n",
    "from assg_utils import run_unittests, run_doctests\n",
    "from assg_tasks import fibonacci_inefficient, fibonacci_efficient\n",
    "from assg_tasks import task_2_numpy_operations\n",
    "from assg_tasks import iterate_julia_set\n",
    "from assg_tasks import task_4_dataframe_information\n",
    "from assg_tasks import task_4_dataframe_mutate"
   ]
  },
  {
   "cell_type": "markdown",
   "metadata": {},
   "source": [
    "## Task 1: Python Functions, Recursion and Memoization\n",
    "----\n",
    "\n",
    "Memoization is a technique that uses a dictionary to cache computed results.\n",
    "Memoization can result in significant speed improvements for some recursive and other\n",
    "types of algorithms that need a subcalculation repeated many times.\n",
    "\n",
    "For example, an inefficient implementation of calculating the $n^{th}$\n",
    "[Fibonacci number](https://en.wikipedia.org/wiki/Fibonacci_number)\n",
    "might look like the following.  Do you understand why this implementation\n",
    "is inefficient? It performs many redundant recursive calls, try creating a tree of\n",
    "the calls for `fib(5)` that are done.  These redundant calculations quickly\n",
    "(exponentially) explode the amount of work that is performed by this naive \n",
    "implementation."
   ]
  },
  {
   "cell_type": "code",
   "execution_count": 4,
   "metadata": {},
   "outputs": [
    {
     "name": "stderr",
     "output_type": "stream",
     "text": [
      "test_base_case_1 (test_assg_tasks.test_fibonacci_inefficient.test_base_case_1)\n",
      "test_base_case_1 ... ok\n",
      "test_base_case_2 (test_assg_tasks.test_fibonacci_inefficient.test_base_case_2)\n",
      "test_base_case_2 ... ok\n",
      "test_recursive_case_10 (test_assg_tasks.test_fibonacci_inefficient.test_recursive_case_10)\n",
      "test_recursive_case_10 ... ok\n",
      "test_recursive_case_3 (test_assg_tasks.test_fibonacci_inefficient.test_recursive_case_3)\n",
      "test_recursive_case_3 ... ok\n",
      "test_recursive_case_37 (test_assg_tasks.test_fibonacci_inefficient.test_recursive_case_37)\n",
      "test_recursive_case_37 ... ok\n",
      "test_recursive_case_4 (test_assg_tasks.test_fibonacci_inefficient.test_recursive_case_4)\n",
      "test_recursive_case_4 ... ok\n",
      "\n",
      "----------------------------------------------------------------------\n",
      "Ran 6 tests in 2.917s\n",
      "\n",
      "OK\n"
     ]
    },
    {
     "data": {
      "text/plain": [
       "<unittest.runner.TextTestResult run=6 errors=0 failures=0>"
      ]
     },
     "execution_count": 4,
     "metadata": {},
     "output_type": "execute_result"
    }
   ],
   "source": [
    "# do not remove or modify the code in this cell\n",
    "run_unittests(['test_fibonacci_inefficient'])"
   ]
  },
  {
   "cell_type": "code",
   "execution_count": 5,
   "metadata": {},
   "outputs": [],
   "source": [
    "# notice the time it takes because of all of the repeated, inefficient work\n",
    "# I normally see over 10 seconds on average to calculate the 40th Fibonacci\n",
    "# number, uncomment this to see how long it takes on your system, but might want to\n",
    "# comment it out again when working on rest of assignment and before submitting your work\n",
    "#%timeit fibonacci_inefficient(40)"
   ]
  },
  {
   "cell_type": "markdown",
   "metadata": {},
   "source": [
    "Write an efficient version of calculating the $n^{th}$ Fibonacci number using\n",
    "the memoization technique.  Your implementation needs to be done in the\n",
    "`src/assg_tasks.py` file.  You have been given the function declaration\n",
    "for `fibonacci_efficient()` already, put your implementation where indicated.\n",
    "\n",
    "Your function will take 1 parameters, `n` the Fibonacci number to calculate, just\n",
    "loke the inefficient version given previously as an example.  You need to declare\n",
    "a global dictionary named `fib_dict` and initialize it with the base cases for\n",
    "the 1st (1) and second (2) numbers in our fibonacci sequence implementation.\n",
    "Put this global declaration into `src/assg_tasks.py` just above your\n",
    "`fibonacci_efficient()` function implementation.\n",
    "\n",
    "Wrte your implementation and demonstrate so that it passes the following tests.\n",
    "As usual, make sure that you do not modify the cell that runs the tests of your work\n",
    "for you.\n",
    "Also test the time of your implementation to calculate\n",
    "the $40^{th}$ Fibonacci number as we did above.  If you implement the memoization\n",
    "correctly, you will find that your function only takes 100s of nano seconds, \n",
    "which is almost a billion times speed improvement."
   ]
  },
  {
   "cell_type": "code",
   "execution_count": 6,
   "metadata": {},
   "outputs": [
    {
     "name": "stderr",
     "output_type": "stream",
     "text": [
      "test_base_case_1 (test_assg_tasks.test_fibonacci_efficient.test_base_case_1)\n",
      "test_base_case_1 ... FAIL\n",
      "test_base_case_2 (test_assg_tasks.test_fibonacci_efficient.test_base_case_2)\n",
      "test_base_case_2 ... FAIL\n",
      "test_recursive_case_10 (test_assg_tasks.test_fibonacci_efficient.test_recursive_case_10)\n",
      "test_recursive_case_10 ... FAIL\n",
      "test_recursive_case_3 (test_assg_tasks.test_fibonacci_efficient.test_recursive_case_3)\n",
      "test_recursive_case_3 ... FAIL\n",
      "test_recursive_case_37 (test_assg_tasks.test_fibonacci_efficient.test_recursive_case_37)\n",
      "test_recursive_case_37 ... FAIL\n",
      "test_recursive_case_4 (test_assg_tasks.test_fibonacci_efficient.test_recursive_case_4)\n",
      "test_recursive_case_4 ... FAIL\n",
      "\n",
      "======================================================================\n",
      "FAIL: test_base_case_1 (test_assg_tasks.test_fibonacci_efficient.test_base_case_1)\n",
      "test_base_case_1\n",
      "----------------------------------------------------------------------\n",
      "Traceback (most recent call last):\n",
      "  File \"/opt/conda/lib/python3.12/site-packages/twisted/internet/defer.py\", line 209, in maybeDeferred\n",
      "    result = f(*args, **kwargs)\n",
      "  File \"/opt/conda/lib/python3.12/site-packages/twisted/internet/utils.py\", line 227, in runWithWarningsSuppressed\n",
      "    raise exc_info[1].with_traceback(exc_info[2])\n",
      "  File \"/opt/conda/lib/python3.12/site-packages/twisted/internet/utils.py\", line 223, in runWithWarningsSuppressed\n",
      "    result = f(*a, **kw)\n",
      "  File \"/workspaces/assg01/src/test_assg_tasks.py\", line 42, in test_base_case_1\n",
      "    self.assertEqual(fibonacci_efficient(1), 1)\n",
      "  File \"/opt/conda/lib/python3.12/site-packages/twisted/trial/_synctest.py\", line 444, in assertEqual\n",
      "    super().assertEqual(first, second, msg)\n",
      "  File \"/opt/conda/lib/python3.12/unittest/case.py\", line 885, in assertEqual\n",
      "    assertion_func(first, second, msg=msg)\n",
      "  File \"/opt/conda/lib/python3.12/unittest/case.py\", line 878, in _baseAssertEqual\n",
      "    raise self.failureException(msg)\n",
      "twisted.trial.unittest.FailTest: 0 != 1\n",
      "\n",
      "======================================================================\n",
      "FAIL: test_base_case_2 (test_assg_tasks.test_fibonacci_efficient.test_base_case_2)\n",
      "test_base_case_2\n",
      "----------------------------------------------------------------------\n",
      "Traceback (most recent call last):\n",
      "  File \"/opt/conda/lib/python3.12/site-packages/twisted/internet/defer.py\", line 209, in maybeDeferred\n",
      "    result = f(*args, **kwargs)\n",
      "  File \"/opt/conda/lib/python3.12/site-packages/twisted/internet/utils.py\", line 227, in runWithWarningsSuppressed\n",
      "    raise exc_info[1].with_traceback(exc_info[2])\n",
      "  File \"/opt/conda/lib/python3.12/site-packages/twisted/internet/utils.py\", line 223, in runWithWarningsSuppressed\n",
      "    result = f(*a, **kw)\n",
      "  File \"/workspaces/assg01/src/test_assg_tasks.py\", line 45, in test_base_case_2\n",
      "    self.assertEqual(fibonacci_efficient(2), 2)\n",
      "  File \"/opt/conda/lib/python3.12/site-packages/twisted/trial/_synctest.py\", line 444, in assertEqual\n",
      "    super().assertEqual(first, second, msg)\n",
      "  File \"/opt/conda/lib/python3.12/unittest/case.py\", line 885, in assertEqual\n",
      "    assertion_func(first, second, msg=msg)\n",
      "  File \"/opt/conda/lib/python3.12/unittest/case.py\", line 878, in _baseAssertEqual\n",
      "    raise self.failureException(msg)\n",
      "twisted.trial.unittest.FailTest: 0 != 2\n",
      "\n",
      "======================================================================\n",
      "FAIL: test_recursive_case_10 (test_assg_tasks.test_fibonacci_efficient.test_recursive_case_10)\n",
      "test_recursive_case_10\n",
      "----------------------------------------------------------------------\n",
      "Traceback (most recent call last):\n",
      "  File \"/opt/conda/lib/python3.12/site-packages/twisted/internet/defer.py\", line 209, in maybeDeferred\n",
      "    result = f(*args, **kwargs)\n",
      "  File \"/opt/conda/lib/python3.12/site-packages/twisted/internet/utils.py\", line 227, in runWithWarningsSuppressed\n",
      "    raise exc_info[1].with_traceback(exc_info[2])\n",
      "  File \"/opt/conda/lib/python3.12/site-packages/twisted/internet/utils.py\", line 223, in runWithWarningsSuppressed\n",
      "    result = f(*a, **kw)\n",
      "  File \"/workspaces/assg01/src/test_assg_tasks.py\", line 54, in test_recursive_case_10\n",
      "    self.assertEqual(fibonacci_efficient(10), 89)\n",
      "  File \"/opt/conda/lib/python3.12/site-packages/twisted/trial/_synctest.py\", line 444, in assertEqual\n",
      "    super().assertEqual(first, second, msg)\n",
      "  File \"/opt/conda/lib/python3.12/unittest/case.py\", line 885, in assertEqual\n",
      "    assertion_func(first, second, msg=msg)\n",
      "  File \"/opt/conda/lib/python3.12/unittest/case.py\", line 878, in _baseAssertEqual\n",
      "    raise self.failureException(msg)\n",
      "twisted.trial.unittest.FailTest: 0 != 89\n",
      "\n",
      "======================================================================\n",
      "FAIL: test_recursive_case_3 (test_assg_tasks.test_fibonacci_efficient.test_recursive_case_3)\n",
      "test_recursive_case_3\n",
      "----------------------------------------------------------------------\n",
      "Traceback (most recent call last):\n",
      "  File \"/opt/conda/lib/python3.12/site-packages/twisted/internet/defer.py\", line 209, in maybeDeferred\n",
      "    result = f(*args, **kwargs)\n",
      "  File \"/opt/conda/lib/python3.12/site-packages/twisted/internet/utils.py\", line 227, in runWithWarningsSuppressed\n",
      "    raise exc_info[1].with_traceback(exc_info[2])\n",
      "  File \"/opt/conda/lib/python3.12/site-packages/twisted/internet/utils.py\", line 223, in runWithWarningsSuppressed\n",
      "    result = f(*a, **kw)\n",
      "  File \"/workspaces/assg01/src/test_assg_tasks.py\", line 48, in test_recursive_case_3\n",
      "    self.assertEqual(fibonacci_efficient(3), 3)\n",
      "  File \"/opt/conda/lib/python3.12/site-packages/twisted/trial/_synctest.py\", line 444, in assertEqual\n",
      "    super().assertEqual(first, second, msg)\n",
      "  File \"/opt/conda/lib/python3.12/unittest/case.py\", line 885, in assertEqual\n",
      "    assertion_func(first, second, msg=msg)\n",
      "  File \"/opt/conda/lib/python3.12/unittest/case.py\", line 878, in _baseAssertEqual\n",
      "    raise self.failureException(msg)\n",
      "twisted.trial.unittest.FailTest: 0 != 3\n",
      "\n",
      "======================================================================\n",
      "FAIL: test_recursive_case_37 (test_assg_tasks.test_fibonacci_efficient.test_recursive_case_37)\n",
      "test_recursive_case_37\n",
      "----------------------------------------------------------------------\n",
      "Traceback (most recent call last):\n",
      "  File \"/opt/conda/lib/python3.12/site-packages/twisted/internet/defer.py\", line 209, in maybeDeferred\n",
      "    result = f(*args, **kwargs)\n",
      "  File \"/opt/conda/lib/python3.12/site-packages/twisted/internet/utils.py\", line 227, in runWithWarningsSuppressed\n",
      "    raise exc_info[1].with_traceback(exc_info[2])\n",
      "  File \"/opt/conda/lib/python3.12/site-packages/twisted/internet/utils.py\", line 223, in runWithWarningsSuppressed\n",
      "    result = f(*a, **kw)\n",
      "  File \"/workspaces/assg01/src/test_assg_tasks.py\", line 57, in test_recursive_case_37\n",
      "    self.assertEqual(fibonacci_efficient(37), 39088169)\n",
      "  File \"/opt/conda/lib/python3.12/site-packages/twisted/trial/_synctest.py\", line 444, in assertEqual\n",
      "    super().assertEqual(first, second, msg)\n",
      "  File \"/opt/conda/lib/python3.12/unittest/case.py\", line 885, in assertEqual\n",
      "    assertion_func(first, second, msg=msg)\n",
      "  File \"/opt/conda/lib/python3.12/unittest/case.py\", line 878, in _baseAssertEqual\n",
      "    raise self.failureException(msg)\n",
      "twisted.trial.unittest.FailTest: 0 != 39088169\n",
      "\n",
      "======================================================================\n",
      "FAIL: test_recursive_case_4 (test_assg_tasks.test_fibonacci_efficient.test_recursive_case_4)\n",
      "test_recursive_case_4\n",
      "----------------------------------------------------------------------\n",
      "Traceback (most recent call last):\n",
      "  File \"/opt/conda/lib/python3.12/site-packages/twisted/internet/defer.py\", line 209, in maybeDeferred\n",
      "    result = f(*args, **kwargs)\n",
      "  File \"/opt/conda/lib/python3.12/site-packages/twisted/internet/utils.py\", line 227, in runWithWarningsSuppressed\n",
      "    raise exc_info[1].with_traceback(exc_info[2])\n",
      "  File \"/opt/conda/lib/python3.12/site-packages/twisted/internet/utils.py\", line 223, in runWithWarningsSuppressed\n",
      "    result = f(*a, **kw)\n",
      "  File \"/workspaces/assg01/src/test_assg_tasks.py\", line 51, in test_recursive_case_4\n",
      "    self.assertEqual(fibonacci_efficient(4), 5)\n",
      "  File \"/opt/conda/lib/python3.12/site-packages/twisted/trial/_synctest.py\", line 444, in assertEqual\n",
      "    super().assertEqual(first, second, msg)\n",
      "  File \"/opt/conda/lib/python3.12/unittest/case.py\", line 885, in assertEqual\n",
      "    assertion_func(first, second, msg=msg)\n",
      "  File \"/opt/conda/lib/python3.12/unittest/case.py\", line 878, in _baseAssertEqual\n",
      "    raise self.failureException(msg)\n",
      "twisted.trial.unittest.FailTest: 0 != 5\n",
      "\n",
      "----------------------------------------------------------------------\n",
      "Ran 6 tests in 0.015s\n",
      "\n",
      "FAILED (failures=6)\n"
     ]
    },
    {
     "data": {
      "text/plain": [
       "<unittest.runner.TextTestResult run=6 errors=0 failures=6>"
      ]
     },
     "execution_count": 6,
     "metadata": {},
     "output_type": "execute_result"
    }
   ],
   "source": [
    "# do not remove or modify the code in this cell\n",
    "run_unittests(['test_fibonacci_efficient'])"
   ]
  },
  {
   "cell_type": "code",
   "execution_count": 7,
   "metadata": {},
   "outputs": [
    {
     "name": "stdout",
     "output_type": "stream",
     "text": [
      "32.7 ns ± 1.09 ns per loop (mean ± std. dev. of 7 runs, 10,000,000 loops each)\n"
     ]
    }
   ],
   "source": [
    "# your time should be only 100(s) of ns now or less, where 1ns = 1e9 sec, so almost billions of\n",
    "# times faster than before\n",
    "%timeit fibonacci_efficient(40)"
   ]
  },
  {
   "cell_type": "markdown",
   "metadata": {},
   "source": [
    "## Task 2: NumPy Operations\n",
    "----\n",
    "\n",
    "In this task, you will demonstrate and practice using the NumPy library to generate the asked for arrays and manipulate them.\n",
    "The purpose of this task is to familarize yourself with NumPy and with performing vectorized operations on arrays.\n",
    "The operations you perform here will be reused in task 3 to implement a somewhat complex vectorized function, so make sure\n",
    "you understand what is being done here. "
   ]
  },
  {
   "cell_type": "markdown",
   "metadata": {},
   "source": [
    "Create the specified NumPy arrays using NumPy library and/or vectorized operations (do not use any\n",
    "loops in your following answers).\n",
    "\n",
    "Create an array named `x` with 5 values linearly spaced from -2.0 to 2.0.  Reshape x to be a row\n",
    "matrix with 1 row and 5 columns.  Your result should look like this:\n",
    "\n",
    "```python\n",
    ">>> print(x)\n",
    "[[-2. -1.  0.  1.  2.]]\n",
    "```"
   ]
  },
  {
   "cell_type": "code",
   "execution_count": 8,
   "metadata": {},
   "outputs": [],
   "source": [
    "# create the describe array x here, make sure it is of the correct shape\n"
   ]
  },
  {
   "cell_type": "markdown",
   "metadata": {},
   "source": [
    "Create an array named `y` with 4 values linearly spaces from -1 to 1.  Reshape y to be\n",
    "a column matrix with 1 column and 4 rows.  `y` should look like this when done:\n",
    "\n",
    "```python\n",
    ">>> print(y)\n",
    "[[-1.        ]\n",
    " [-0.33333333]\n",
    " [ 0.33333333]\n",
    " [ 1.        ]]\n",
    "```"
   ]
  },
  {
   "cell_type": "code",
   "execution_count": 9,
   "metadata": {},
   "outputs": [],
   "source": [
    "# create the describe array y of the correct shape and contents here"
   ]
  },
  {
   "cell_type": "markdown",
   "metadata": {},
   "source": [
    "The `np.tile()` function can be used to repeat parts of an array.  For example, we can turn\n",
    "`x` into a 4 rows by 5 columns matrix, repeating its row, like this:"
   ]
  },
  {
   "cell_type": "code",
   "execution_count": 10,
   "metadata": {},
   "outputs": [],
   "source": [
    "# uncomment this for an example of how to tile your lower case x array\n",
    "#X = np.tile(x, (rows,1))\n",
    "#print(X)\n",
    "#print(X.shape)"
   ]
  },
  {
   "cell_type": "markdown",
   "metadata": {},
   "source": [
    "In the next cell demonstrate tiling the `y` column array to also be of shape `(4,5)`, but where each\n",
    "column is a repeatition of the current single column in `y`."
   ]
  },
  {
   "cell_type": "code",
   "execution_count": 11,
   "metadata": {},
   "outputs": [],
   "source": [
    "# tile y's column to end up with 5 repeated columns of y, and a shape again of (4,5) here"
   ]
  },
  {
   "cell_type": "markdown",
   "metadata": {},
   "source": [
    "Now demonstrate the result of doing a vectorized multiplication of the tiled result of `y` times\n",
    "the complex number 0 + 1j.  The result should look like this.  Notice that the original contents\n",
    "of `y` are multiplied times both the real and complex part, but since the real part is 0 you end up\n",
    "only with the complex part.\n",
    "\n",
    "```python\n",
    ">>> print(Y)\n",
    "array([[-0.-1.j        , -0.-1.j        , -0.-1.j        ,\n",
    "        -0.-1.j        , -0.-1.j        ],\n",
    "       [-0.-0.33333333j, -0.-0.33333333j, -0.-0.33333333j,\n",
    "        -0.-0.33333333j, -0.-0.33333333j],\n",
    "       [ 0.+0.33333333j,  0.+0.33333333j,  0.+0.33333333j,\n",
    "         0.+0.33333333j,  0.+0.33333333j],\n",
    "       [ 0.+1.j        ,  0.+1.j        ,  0.+1.j        ,\n",
    "         0.+1.j        ,  0.+1.j        ]])\n",
    "\n",
    ">>> print(Y.shape)\n",
    "(4, 5)\n",
    "```"
   ]
  },
  {
   "cell_type": "code",
   "execution_count": 12,
   "metadata": {},
   "outputs": [],
   "source": [
    "# perform vectorized multiplication of Y here as described"
   ]
  },
  {
   "cell_type": "markdown",
   "metadata": {},
   "source": [
    "Using the previous 2 tile commands and vectorized multiplication, create a new matrix Z that is\n",
    "of shape `(5,4)`.  Z is the result of adding up the tiled of `x` and `y * 1j`.\n",
    "\n",
    "You should get the following result.  Notice that `Z` the real part is the part from the tiled `x`\n",
    "and the imaginary part comes from the tiled `y`:\n",
    "\n",
    "```python\n",
    ">>> print(Z)\n",
    "[[-2.-1.j         -1.-1.j          0.-1.j          1.-1.j\n",
    "   2.-1.j        ]\n",
    " [-2.-0.33333333j -1.-0.33333333j  0.-0.33333333j  1.-0.33333333j\n",
    "   2.-0.33333333j]\n",
    " [-2.+0.33333333j -1.+0.33333333j  0.+0.33333333j  1.+0.33333333j\n",
    "   2.+0.33333333j]\n",
    " [-2.+1.j         -1.+1.j          0.+1.j          1.+1.j\n",
    "   2.+1.j        ]]\n",
    ">>> print(Z.shape)\n",
    "(4, 5)\n",
    "```"
   ]
  },
  {
   "cell_type": "code",
   "execution_count": 13,
   "metadata": {},
   "outputs": [],
   "source": [
    "# perform vectorized addition to create Z matrix as described here"
   ]
  },
  {
   "cell_type": "markdown",
   "metadata": {},
   "source": [
    "In the next cell, create an array called `T` which will be used to record time stamps later on.\n",
    "`T` should be the same shape as Z `(4, 5)` but filled all with 0's."
   ]
  },
  {
   "cell_type": "code",
   "execution_count": 14,
   "metadata": {},
   "outputs": [],
   "source": [
    "# Create an array called T of the same shape as Z of all zeros"
   ]
  },
  {
   "cell_type": "markdown",
   "metadata": {},
   "source": [
    "Now create an array named `M` which will be used as a mask later on.  `M` should be the same shape\n",
    "as `Z`, but its values should be of `dtype=bool` and all of the boolean values should initially\n",
    "be set to `True`.  You should get the following results for this array named `M`:\n",
    "\n",
    "```python\n",
    ">>> print(M)\n",
    "[[ True  True  True  True  True]\n",
    " [ True  True  True  True  True]\n",
    " [ True  True  True  True  True]\n",
    " [ True  True  True  True  True]]\n",
    "\n",
    ">>> print(M.shape)\n",
    "(4, 5)\n",
    "\n",
    ">>> print(M.dtype)\n",
    "bool\n",
    "```"
   ]
  },
  {
   "cell_type": "code",
   "execution_count": 15,
   "metadata": {},
   "outputs": [],
   "source": [
    "# create an array called M of the same size as Z but using dtype=bool and initially all values\n",
    "# are set to True"
   ]
  },
  {
   "cell_type": "markdown",
   "metadata": {},
   "source": [
    "Now create an array called `C` of complex values.  `C` should be the same shape as `Z` and it should\n",
    "be filled with the complex value `-0.4 + 0.6j` for all elements.\n",
    "\n",
    "```python\n",
    ">>> print(C)\n",
    "[[-0.4+0.6j -0.4+0.6j -0.4+0.6j -0.4+0.6j -0.4+0.6j]\n",
    " [-0.4+0.6j -0.4+0.6j -0.4+0.6j -0.4+0.6j -0.4+0.6j]\n",
    " [-0.4+0.6j -0.4+0.6j -0.4+0.6j -0.4+0.6j -0.4+0.6j]\n",
    " [-0.4+0.6j -0.4+0.6j -0.4+0.6j -0.4+0.6j -0.4+0.6j]]\n",
    "\n",
    ">>> print(C.shape)\n",
    "(4, 5)\n",
    "\n",
    ">>> print(C.dtype)\n",
    "complex128\n",
    "```"
   ]
  },
  {
   "cell_type": "code",
   "execution_count": 16,
   "metadata": {},
   "outputs": [],
   "source": [
    "# create an array called C of the same shape as Z, but all filled with the complex value\n",
    "# -0.4 + 0.6j"
   ]
  },
  {
   "cell_type": "markdown",
   "metadata": {},
   "source": [
    "The `np.abs()` function is a vectorized NumPy function that will compute the absolute value of an\n",
    "array of values.  However, the \n",
    "[absolute value of a complex number](https://en.wikipedia.org/wiki/Absolute_value#Complex_numbers)\n",
    "is defined asa function of the real and imaginary parts.  For example, try finding the\n",
    "absolute value of your `Z` matrix, you should get the following result:\n",
    "\n",
    "```python\n",
    ">>> np.abs(Z)\n",
    "array([[2.23606798, 1.41421356, 1.        , 1.41421356, 2.23606798],\n",
    "       [2.02758751, 1.05409255, 0.33333333, 1.05409255, 2.02758751],\n",
    "       [2.02758751, 1.05409255, 0.33333333, 1.05409255, 2.02758751],\n",
    "       [2.23606798, 1.41421356, 1.        , 1.41421356, 2.23606798]])\n",
    "```"
   ]
  },
  {
   "cell_type": "code",
   "execution_count": 17,
   "metadata": {},
   "outputs": [],
   "source": [
    "# calculate the absolute value of Z here and display it, you should get the same result shown above"
   ]
  },
  {
   "cell_type": "markdown",
   "metadata": {},
   "source": [
    "Perform the following vectorized calculations in this order.\n",
    "\n",
    "1. Update the array named `M` so that it is `False` at all locations\n",
    "where the absolute value of `Z` is greater than 2, and is `True` at all locations where the\n",
    "absolute value of `Z` is less than or equal to 2.\n",
    "2. Update `T` to be 1 for all places where the mask `M` is true\n",
    "3. Update `Z` but only for the values where the mask `M` is true. Update it using the following \n",
    "quadratic formula\n",
    "$$\n",
    "Z = Z^2 + C\n",
    "$$\n",
    "This is a vectorized operation, but again only perform this update of `Z` for those values where the\n",
    "mask `M` is true (**HINT**: using boolean indexing).\n",
    "\n",
    "The result will be `(4,5)` shaped matrices in all cases, and you should get the following for\n",
    "`M`, `T` and `Z` if you perform the vectorized operations correctly:\n",
    "\n",
    "```python\n",
    ">>> print(M)\n",
    "[[False  True  True  True False]\n",
    " [False  True  True  True False]\n",
    " [False  True  True  True False]\n",
    " [False  True  True  True False]]\n",
    "\n",
    ">>> print(T)\n",
    "[[0. 1. 1. 1. 0.]\n",
    " [0. 1. 1. 1. 0.]\n",
    " [0. 1. 1. 1. 0.]\n",
    " [0. 1. 1. 1. 0.]]\n",
    "\n",
    ">>> print(Z)\n",
    "[[-2.        -1.j         -0.4       +2.6j        -1.4       +0.6j\n",
    "  -0.4       -1.4j         2.        -1.j        ]\n",
    " [-2.        -0.33333333j  0.48888889+1.26666667j -0.51111111+0.6j\n",
    "   0.48888889-0.06666667j  2.        -0.33333333j]\n",
    " [-2.        +0.33333333j  0.48888889-0.06666667j -0.51111111+0.6j\n",
    "   0.48888889+1.26666667j  2.        +0.33333333j]\n",
    " [-2.        +1.j         -0.4       -1.4j        -1.4       +0.6j\n",
    "  -0.4       +2.6j         2.        +1.j        ]]\n",
    "\n",
    "```\n"
   ]
  },
  {
   "cell_type": "code",
   "execution_count": 18,
   "metadata": {},
   "outputs": [],
   "source": [
    "# update and print M here"
   ]
  },
  {
   "cell_type": "code",
   "execution_count": 19,
   "metadata": {},
   "outputs": [],
   "source": [
    "# update and print T here"
   ]
  },
  {
   "cell_type": "code",
   "execution_count": 20,
   "metadata": {},
   "outputs": [],
   "source": [
    "# using M as a mask, computer Z**2 + C and put the value back into Z here"
   ]
  },
  {
   "cell_type": "markdown",
   "metadata": {},
   "source": [
    "Finally to more thorougly check your work, implement the function in `src/assg_tasks.py`\n",
    "named `task_2_numpy_operations()`.  You can copy all of the code you did above, and\n",
    "return your final `M`, `T` an `Z`.  The tests below will check that your final\n",
    "return matrices are of the correct shape, data types and contain the expected\n",
    "values."
   ]
  },
  {
   "cell_type": "code",
   "execution_count": 21,
   "metadata": {},
   "outputs": [
    {
     "name": "stderr",
     "output_type": "stream",
     "text": [
      "test_M_results (test_assg_tasks.test_task_2_numpy_operations.test_M_results)\n",
      "test_M_results ... FAIL\n",
      "test_T_results (test_assg_tasks.test_task_2_numpy_operations.test_T_results)\n",
      "test_T_results ... FAIL\n",
      "test_Z_results (test_assg_tasks.test_task_2_numpy_operations.test_Z_results)\n",
      "test_Z_results ... FAIL\n",
      "\n",
      "======================================================================\n",
      "FAIL: test_M_results (test_assg_tasks.test_task_2_numpy_operations.test_M_results)\n",
      "test_M_results\n",
      "----------------------------------------------------------------------\n",
      "Traceback (most recent call last):\n",
      "  File \"/opt/conda/lib/python3.12/site-packages/twisted/internet/defer.py\", line 209, in maybeDeferred\n",
      "    result = f(*args, **kwargs)\n",
      "  File \"/opt/conda/lib/python3.12/site-packages/twisted/internet/utils.py\", line 227, in runWithWarningsSuppressed\n",
      "    raise exc_info[1].with_traceback(exc_info[2])\n",
      "  File \"/opt/conda/lib/python3.12/site-packages/twisted/internet/utils.py\", line 223, in runWithWarningsSuppressed\n",
      "    result = f(*a, **kw)\n",
      "  File \"/workspaces/assg01/src/test_assg_tasks.py\", line 66, in test_M_results\n",
      "    self.assertEqual(self.M.shape, (4, 5))\n",
      "  File \"/opt/conda/lib/python3.12/site-packages/twisted/trial/_synctest.py\", line 444, in assertEqual\n",
      "    super().assertEqual(first, second, msg)\n",
      "  File \"/opt/conda/lib/python3.12/unittest/case.py\", line 885, in assertEqual\n",
      "    assertion_func(first, second, msg=msg)\n",
      "  File \"/opt/conda/lib/python3.12/unittest/case.py\", line 1102, in assertTupleEqual\n",
      "    self.assertSequenceEqual(tuple1, tuple2, msg, seq_type=tuple)\n",
      "  File \"/opt/conda/lib/python3.12/unittest/case.py\", line 1073, in assertSequenceEqual\n",
      "    self.fail(msg)\n",
      "  File \"/opt/conda/lib/python3.12/site-packages/twisted/trial/_synctest.py\", line 381, in fail\n",
      "    raise self.failureException(msg)\n",
      "twisted.trial.unittest.FailTest: Tuples differ: (2, 2) != (4, 5)\n",
      "\n",
      "First differing element 0:\n",
      "2\n",
      "4\n",
      "\n",
      "- (2, 2)\n",
      "+ (4, 5)\n",
      "\n",
      "======================================================================\n",
      "FAIL: test_T_results (test_assg_tasks.test_task_2_numpy_operations.test_T_results)\n",
      "test_T_results\n",
      "----------------------------------------------------------------------\n",
      "Traceback (most recent call last):\n",
      "  File \"/opt/conda/lib/python3.12/site-packages/twisted/internet/defer.py\", line 209, in maybeDeferred\n",
      "    result = f(*args, **kwargs)\n",
      "  File \"/opt/conda/lib/python3.12/site-packages/twisted/internet/utils.py\", line 227, in runWithWarningsSuppressed\n",
      "    raise exc_info[1].with_traceback(exc_info[2])\n",
      "  File \"/opt/conda/lib/python3.12/site-packages/twisted/internet/utils.py\", line 223, in runWithWarningsSuppressed\n",
      "    result = f(*a, **kw)\n",
      "  File \"/workspaces/assg01/src/test_assg_tasks.py\", line 76, in test_T_results\n",
      "    self.assertEqual(self.T.shape, (4, 5))\n",
      "  File \"/opt/conda/lib/python3.12/site-packages/twisted/trial/_synctest.py\", line 444, in assertEqual\n",
      "    super().assertEqual(first, second, msg)\n",
      "  File \"/opt/conda/lib/python3.12/unittest/case.py\", line 885, in assertEqual\n",
      "    assertion_func(first, second, msg=msg)\n",
      "  File \"/opt/conda/lib/python3.12/unittest/case.py\", line 1102, in assertTupleEqual\n",
      "    self.assertSequenceEqual(tuple1, tuple2, msg, seq_type=tuple)\n",
      "  File \"/opt/conda/lib/python3.12/unittest/case.py\", line 1073, in assertSequenceEqual\n",
      "    self.fail(msg)\n",
      "  File \"/opt/conda/lib/python3.12/site-packages/twisted/trial/_synctest.py\", line 381, in fail\n",
      "    raise self.failureException(msg)\n",
      "twisted.trial.unittest.FailTest: Tuples differ: (2, 2) != (4, 5)\n",
      "\n",
      "First differing element 0:\n",
      "2\n",
      "4\n",
      "\n",
      "- (2, 2)\n",
      "+ (4, 5)\n",
      "\n",
      "======================================================================\n",
      "FAIL: test_Z_results (test_assg_tasks.test_task_2_numpy_operations.test_Z_results)\n",
      "test_Z_results\n",
      "----------------------------------------------------------------------\n",
      "Traceback (most recent call last):\n",
      "  File \"/opt/conda/lib/python3.12/site-packages/twisted/internet/defer.py\", line 209, in maybeDeferred\n",
      "    result = f(*args, **kwargs)\n",
      "  File \"/opt/conda/lib/python3.12/site-packages/twisted/internet/utils.py\", line 227, in runWithWarningsSuppressed\n",
      "    raise exc_info[1].with_traceback(exc_info[2])\n",
      "  File \"/opt/conda/lib/python3.12/site-packages/twisted/internet/utils.py\", line 223, in runWithWarningsSuppressed\n",
      "    result = f(*a, **kw)\n",
      "  File \"/workspaces/assg01/src/test_assg_tasks.py\", line 86, in test_Z_results\n",
      "    self.assertEqual(self.Z.shape, (4, 5))\n",
      "  File \"/opt/conda/lib/python3.12/site-packages/twisted/trial/_synctest.py\", line 444, in assertEqual\n",
      "    super().assertEqual(first, second, msg)\n",
      "  File \"/opt/conda/lib/python3.12/unittest/case.py\", line 885, in assertEqual\n",
      "    assertion_func(first, second, msg=msg)\n",
      "  File \"/opt/conda/lib/python3.12/unittest/case.py\", line 1102, in assertTupleEqual\n",
      "    self.assertSequenceEqual(tuple1, tuple2, msg, seq_type=tuple)\n",
      "  File \"/opt/conda/lib/python3.12/unittest/case.py\", line 1073, in assertSequenceEqual\n",
      "    self.fail(msg)\n",
      "  File \"/opt/conda/lib/python3.12/site-packages/twisted/trial/_synctest.py\", line 381, in fail\n",
      "    raise self.failureException(msg)\n",
      "twisted.trial.unittest.FailTest: Tuples differ: (2, 2) != (4, 5)\n",
      "\n",
      "First differing element 0:\n",
      "2\n",
      "4\n",
      "\n",
      "- (2, 2)\n",
      "+ (4, 5)\n",
      "\n",
      "----------------------------------------------------------------------\n",
      "Ran 3 tests in 0.008s\n",
      "\n",
      "FAILED (failures=3)\n"
     ]
    },
    {
     "data": {
      "text/plain": [
       "<unittest.runner.TextTestResult run=3 errors=0 failures=3>"
      ]
     },
     "execution_count": 21,
     "metadata": {},
     "output_type": "execute_result"
    }
   ],
   "source": [
    "# do not remove or modify the code in this cell\n",
    "run_unittests(['test_task_2_numpy_operations'])"
   ]
  },
  {
   "cell_type": "markdown",
   "metadata": {},
   "source": [
    "## Task 3: Vectorized Functions and Plotting\n",
    "----\n",
    "\n",
    "Using the operations to create and update `Z` in the previous task 2, we will now write a function\n",
    "that will perform the update on `Z`, `T`, and `M` repeatedly.  The formula to update `Z` we just\n",
    "did is the quadratic polynomial used to calculate *Julia Sets*.  Given a matrix of complex numbers,\n",
    "if you successively iterate the updates of `Z` you will get this set. The basic idea is that you\n",
    "iterate some number of times (256 in our tests), updating `Z`, `T` and `M`.  For each discrete iteration,\n",
    "we will only update the locations in the matrices where the absolute value of `Z` is still less than 2.\n",
    "The time matrix `T` will keep track of the time index when the point in the matrix `Z` \"falls out\"\n",
    "and goes above an absolute value of 2.\n",
    "\n",
    "Create a function named `iterate_julia_set()` in the `src/assg_tasks.py` file.\n",
    "This function will take the initial values of `Z`, and the number of iterations and a complex\n",
    "value `c` that is used to initialize the `C` matrix that is added to `Z`.  See the\n",
    "PyDoc documentation in the function for some more details.\n",
    "\n",
    "Your function should do the following.\n",
    "\n",
    "1. Make a copy of the `Z` array that is passed in, so that if we update it the updates are not seen\n",
    "outside of the function.\n",
    "2. Initialize `C`, `M` and `T` based on the shape of `Z`, as you did for the previous question.  `T` is \n",
    "an array of time indexes (integers), that are all initially 0.  `C` is simply an array of complex numbers, you\n",
    "should use the parameter `c` (lower case `c`) as the initial value for all values in `C`.  And `M` is a boolean\n",
    "mask that keeps track of which points in `Z` have an absolute value above or below the threshold\n",
    "of 2.\n",
    "3. Then create a loop that iterats the indicated `num_iters` times.  Inside of your loop \n",
    "you should perform the 3 updates we did previously.  `Z` is updated as `Z^2 + C` but only for\n",
    "the values where the mask `M` is true.  Then the mask `M` is updated since the values of\n",
    "`Z` have now changed.  And finally, mark any values in `T` using the mask with the current\n",
    "time index, only for those locations where the mask `M` is `True`.  This allows us to keep track of\n",
    "the time where each point exceeds an absolute value of 2.\n",
    "\n",
    "At the end you should return the resulting time indexes array `T` as the result from your\n",
    "function.\n",
    "\n"
   ]
  },
  {
   "cell_type": "markdown",
   "metadata": {},
   "source": [
    "If you implement your function correctly, then the result of running the following 3\n",
    "cells should be a figure/image plot of the julia fractal set.  If your implementation is correct,\n",
    "then the figure will look like the image shown here, using a default of `c=-0.4+0.6j` for the\n",
    "complex number constant and 256 iterations in total.\n",
    "\n",
    "![title](../figures/assg-01-task-03-result.png)"
   ]
  },
  {
   "cell_type": "code",
   "execution_count": 22,
   "metadata": {},
   "outputs": [
    {
     "name": "stderr",
     "output_type": "stream",
     "text": [
      "test_julia_set (test_assg_tasks.test_iterate_julia_set.test_julia_set)\n",
      "test_julia_set ... FAIL\n",
      "\n",
      "======================================================================\n",
      "FAIL: test_julia_set (test_assg_tasks.test_iterate_julia_set.test_julia_set)\n",
      "test_julia_set\n",
      "----------------------------------------------------------------------\n",
      "Traceback (most recent call last):\n",
      "  File \"/opt/conda/lib/python3.12/site-packages/twisted/internet/defer.py\", line 209, in maybeDeferred\n",
      "    result = f(*args, **kwargs)\n",
      "  File \"/opt/conda/lib/python3.12/site-packages/twisted/internet/utils.py\", line 227, in runWithWarningsSuppressed\n",
      "    raise exc_info[1].with_traceback(exc_info[2])\n",
      "  File \"/opt/conda/lib/python3.12/site-packages/twisted/internet/utils.py\", line 223, in runWithWarningsSuppressed\n",
      "    result = f(*a, **kw)\n",
      "  File \"/workspaces/assg01/src/test_assg_tasks.py\", line 115, in test_julia_set\n",
      "    self.assertEqual(T.shape, self.Z.shape)\n",
      "  File \"/opt/conda/lib/python3.12/site-packages/twisted/trial/_synctest.py\", line 444, in assertEqual\n",
      "    super().assertEqual(first, second, msg)\n",
      "  File \"/opt/conda/lib/python3.12/unittest/case.py\", line 885, in assertEqual\n",
      "    assertion_func(first, second, msg=msg)\n",
      "  File \"/opt/conda/lib/python3.12/unittest/case.py\", line 1102, in assertTupleEqual\n",
      "    self.assertSequenceEqual(tuple1, tuple2, msg, seq_type=tuple)\n",
      "  File \"/opt/conda/lib/python3.12/unittest/case.py\", line 1073, in assertSequenceEqual\n",
      "    self.fail(msg)\n",
      "  File \"/opt/conda/lib/python3.12/site-packages/twisted/trial/_synctest.py\", line 381, in fail\n",
      "    raise self.failureException(msg)\n",
      "twisted.trial.unittest.FailTest: Tuples differ: (2, 2) != (320, 480)\n",
      "\n",
      "First differing element 0:\n",
      "2\n",
      "320\n",
      "\n",
      "- (2, 2)\n",
      "+ (320, 480)\n",
      "\n",
      "----------------------------------------------------------------------\n",
      "Ran 1 test in 0.008s\n",
      "\n",
      "FAILED (failures=1)\n"
     ]
    },
    {
     "data": {
      "text/plain": [
       "<unittest.runner.TextTestResult run=1 errors=0 failures=1>"
      ]
     },
     "execution_count": 22,
     "metadata": {},
     "output_type": "execute_result"
    }
   ],
   "source": [
    "# do not remove or modify the code in this cell\n",
    "run_unittests(['test_iterate_julia_set'])"
   ]
  },
  {
   "cell_type": "markdown",
   "metadata": {},
   "source": [
    "The following cells will run your function on an initial Z and plot the resulting\n",
    "fractal, which should match the example figure given if your function is working\n",
    "as expected."
   ]
  },
  {
   "cell_type": "code",
   "execution_count": 23,
   "metadata": {},
   "outputs": [],
   "source": [
    "# dimensions grid points we will generate for our Z matrix of complex numbers to iterate\n",
    "# (actually 1/2 the dimensions, since we go from -cols to +cols and -rows to +rows)\n",
    "cols = 480\n",
    "rows = 320\n",
    "\n",
    "# figure scale\n",
    "scale = 300\n",
    "\n",
    "# create Z matrix of points, we start simply with a set of linearly\n",
    "# spaced points representating the range and grid for the x and y axis.\n",
    "# Then we can use the tile() funciton to create a grid\n",
    "x = np.linspace(-cols / scale, cols / scale, num=cols).reshape(1, cols)\n",
    "y = np.linspace(-rows / scale, rows / scale, num=rows).reshape(rows, 1)\n",
    "Z = np.tile(x, (rows, 1)) + 1j * np.tile(y, (1, cols))"
   ]
  },
  {
   "cell_type": "code",
   "execution_count": 24,
   "metadata": {},
   "outputs": [
    {
     "data": {
      "image/png": "[encoded data removed]",
      "text/plain": [
       "<Figure size 1000x800 with 1 Axes>"
      ]
     },
     "metadata": {},
     "output_type": "display_data"
    }
   ],
   "source": [
    "# iterate the Z julia set\n",
    "c=-0.4+0.6j\n",
    "num_iters=256\n",
    "T = iterate_julia_set(Z, c, num_iters)\n",
    "\n",
    "# plot the resulting fractal\n",
    "fig = plt.figure(figsize=(10,8))\n",
    "ax = fig.add_axes([0, 0, 1, 1], frameon=False, aspect=1)\n",
    "ax.set_xticks([])\n",
    "ax.set_yticks([])\n",
    "\n",
    "plt.imshow(np.flipud(T), cmap='hot');\n",
    "title = r'Julia set for $c = %s$ %d iterations' % (c, num_iters)\n",
    "plt.title(title, fontsize=20);\n",
    "#plt.savefig('../figures/assg-01-problem-03-result.png');"
   ]
  },
  {
   "cell_type": "markdown",
   "metadata": {},
   "source": [
    "## Task 4: Pandas\n",
    "----\n",
    "\n",
    "In the final task, you are asked to use the `Pandas` library to read in a table of data into\n",
    "a `DataFrame` and manipulate the data as described.\n",
    "\n",
    "There is a file in your repository assignments directory, under the `data` subdirectory,\n",
    "called `../data/assg-01-data.csv` formatted using comma separated values.  This file\n",
    "contains 15 lines of sales data.  Read the data into a `Pandas` data frame simply named `df`, and display the \n",
    "first 5 lines of data using the `head()`\n",
    "member function.  Display the last 5 lines of the data using the `tail()` member function.\n",
    "\n",
    "And also use the `describe()` function to get information about the numerical attributes\n",
    "of the dataframe."
   ]
  },
  {
   "cell_type": "code",
   "execution_count": 25,
   "metadata": {},
   "outputs": [],
   "source": [
    "# load dataframe from file here, you are required to use a relative path to load the dataframe from here\n",
    "df = pd.DataFrame()"
   ]
  },
  {
   "cell_type": "code",
   "execution_count": 26,
   "metadata": {},
   "outputs": [],
   "source": [
    "# display the first 5 lines of dataframe here"
   ]
  },
  {
   "cell_type": "code",
   "execution_count": 27,
   "metadata": {},
   "outputs": [],
   "source": [
    "# display the last 5 lines of dataframe here"
   ]
  },
  {
   "cell_type": "code",
   "execution_count": 28,
   "metadata": {},
   "outputs": [],
   "source": [
    "# describe the numerical attributes of the dataframe here"
   ]
  },
  {
   "cell_type": "markdown",
   "metadata": {},
   "source": [
    "As you should be able to see, the data consists of some customer sales' information, along with the customer address.  \n",
    "The data contains sales information for 3 months."
   ]
  },
  {
   "cell_type": "markdown",
   "metadata": {},
   "source": [
    "For the next unit test, write a function called `task_4_dataframe_information()` in the\n",
    "`src/assg_tasks.py` file.  This function will take the dataframe you read in.  Your function will find\n",
    "out and return the following 3 pieces of information:\n",
    "\n",
    "- The total sum of sales in the month of Jan\n",
    "- The minimum sales amount in the month of Feb\n",
    "- The average (mean) sales for the month of Mar\n"
   ]
  },
  {
   "cell_type": "code",
   "execution_count": 29,
   "metadata": {},
   "outputs": [
    {
     "name": "stderr",
     "output_type": "stream",
     "text": [
      "test_feb_sales_min (test_assg_tasks.test_task_4_dataframe_information.test_feb_sales_min)\n",
      "test_feb_sales_min ... FAIL\n",
      "test_jan_sales_sum (test_assg_tasks.test_task_4_dataframe_information.test_jan_sales_sum)\n",
      "test_jan_sales_sum ... FAIL\n",
      "test_mar_sales_avg (test_assg_tasks.test_task_4_dataframe_information.test_mar_sales_avg)\n",
      "test_mar_sales_avg ... FAIL\n",
      "\n",
      "======================================================================\n",
      "FAIL: test_feb_sales_min (test_assg_tasks.test_task_4_dataframe_information.test_feb_sales_min)\n",
      "test_feb_sales_min\n",
      "----------------------------------------------------------------------\n",
      "Traceback (most recent call last):\n",
      "  File \"/opt/conda/lib/python3.12/site-packages/twisted/internet/defer.py\", line 209, in maybeDeferred\n",
      "    result = f(*args, **kwargs)\n",
      "  File \"/opt/conda/lib/python3.12/site-packages/twisted/internet/utils.py\", line 227, in runWithWarningsSuppressed\n",
      "    raise exc_info[1].with_traceback(exc_info[2])\n",
      "  File \"/opt/conda/lib/python3.12/site-packages/twisted/internet/utils.py\", line 223, in runWithWarningsSuppressed\n",
      "    result = f(*a, **kw)\n",
      "  File \"/workspaces/assg01/src/test_assg_tasks.py\", line 137, in test_feb_sales_min\n",
      "    self.assertEqual(self.feb_sales_min, 10000)\n",
      "  File \"/opt/conda/lib/python3.12/site-packages/twisted/trial/_synctest.py\", line 444, in assertEqual\n",
      "    super().assertEqual(first, second, msg)\n",
      "  File \"/opt/conda/lib/python3.12/unittest/case.py\", line 885, in assertEqual\n",
      "    assertion_func(first, second, msg=msg)\n",
      "  File \"/opt/conda/lib/python3.12/unittest/case.py\", line 878, in _baseAssertEqual\n",
      "    raise self.failureException(msg)\n",
      "twisted.trial.unittest.FailTest: 0 != 10000\n",
      "\n",
      "======================================================================\n",
      "FAIL: test_jan_sales_sum (test_assg_tasks.test_task_4_dataframe_information.test_jan_sales_sum)\n",
      "test_jan_sales_sum\n",
      "----------------------------------------------------------------------\n",
      "Traceback (most recent call last):\n",
      "  File \"/opt/conda/lib/python3.12/site-packages/twisted/internet/defer.py\", line 209, in maybeDeferred\n",
      "    result = f(*args, **kwargs)\n",
      "  File \"/opt/conda/lib/python3.12/site-packages/twisted/internet/utils.py\", line 227, in runWithWarningsSuppressed\n",
      "    raise exc_info[1].with_traceback(exc_info[2])\n",
      "  File \"/opt/conda/lib/python3.12/site-packages/twisted/internet/utils.py\", line 223, in runWithWarningsSuppressed\n",
      "    result = f(*a, **kw)\n",
      "  File \"/workspaces/assg01/src/test_assg_tasks.py\", line 134, in test_jan_sales_sum\n",
      "    self.assertEqual(self.jan_sales_sum, 1462000)\n",
      "  File \"/opt/conda/lib/python3.12/site-packages/twisted/trial/_synctest.py\", line 444, in assertEqual\n",
      "    super().assertEqual(first, second, msg)\n",
      "  File \"/opt/conda/lib/python3.12/unittest/case.py\", line 885, in assertEqual\n",
      "    assertion_func(first, second, msg=msg)\n",
      "  File \"/opt/conda/lib/python3.12/unittest/case.py\", line 878, in _baseAssertEqual\n",
      "    raise self.failureException(msg)\n",
      "twisted.trial.unittest.FailTest: 0 != 1462000\n",
      "\n",
      "======================================================================\n",
      "FAIL: test_mar_sales_avg (test_assg_tasks.test_task_4_dataframe_information.test_mar_sales_avg)\n",
      "test_mar_sales_avg\n",
      "----------------------------------------------------------------------\n",
      "Traceback (most recent call last):\n",
      "  File \"/opt/conda/lib/python3.12/site-packages/twisted/internet/defer.py\", line 209, in maybeDeferred\n",
      "    result = f(*args, **kwargs)\n",
      "  File \"/opt/conda/lib/python3.12/site-packages/twisted/internet/utils.py\", line 227, in runWithWarningsSuppressed\n",
      "    raise exc_info[1].with_traceback(exc_info[2])\n",
      "  File \"/opt/conda/lib/python3.12/site-packages/twisted/internet/utils.py\", line 223, in runWithWarningsSuppressed\n",
      "    result = f(*a, **kw)\n",
      "  File \"/workspaces/assg01/src/test_assg_tasks.py\", line 140, in test_mar_sales_avg\n",
      "    self.assertEqual(self.mar_sales_avg, 47800.0)\n",
      "  File \"/opt/conda/lib/python3.12/site-packages/twisted/trial/_synctest.py\", line 444, in assertEqual\n",
      "    super().assertEqual(first, second, msg)\n",
      "  File \"/opt/conda/lib/python3.12/unittest/case.py\", line 885, in assertEqual\n",
      "    assertion_func(first, second, msg=msg)\n",
      "  File \"/opt/conda/lib/python3.12/unittest/case.py\", line 878, in _baseAssertEqual\n",
      "    raise self.failureException(msg)\n",
      "twisted.trial.unittest.FailTest: 0 != 47800.0\n",
      "\n",
      "----------------------------------------------------------------------\n",
      "Ran 3 tests in 0.019s\n",
      "\n",
      "FAILED (failures=3)\n"
     ]
    },
    {
     "data": {
      "text/plain": [
       "<unittest.runner.TextTestResult run=3 errors=0 failures=3>"
      ]
     },
     "execution_count": 29,
     "metadata": {},
     "output_type": "execute_result"
    }
   ],
   "source": [
    "# do not remove or modify the code in this cell\n",
    "run_unittests(['test_task_4_dataframe_information'])"
   ]
  },
  {
   "cell_type": "code",
   "execution_count": 30,
   "metadata": {},
   "outputs": [
    {
     "name": "stdout",
     "output_type": "stream",
     "text": [
      "Sum of January  sales: 0\n",
      "Min of February sales: 0\n",
      "Avg of March    sales: 0\n"
     ]
    }
   ],
   "source": [
    "# the following will run your function and display the information you determined\n",
    "jan_sales_sum, feb_sales_min, mar_sales_avg = task_4_dataframe_information(df)\n",
    "print(f\"Sum of January  sales: {jan_sales_sum}\")\n",
    "print(f\"Min of February sales: {feb_sales_min}\")\n",
    "print(f\"Avg of March    sales: {mar_sales_avg}\")"
   ]
  },
  {
   "cell_type": "markdown",
   "metadata": {},
   "source": [
    "Using pandas data frame operations only again, write a function named `task_4_dataframe_mutate()` in the\n",
    "`src/assg_tasks.py` file.  This function will again take your data frame, and it will return a new\n",
    "data frame.  The new dataframe should\n",
    "\n",
    "- Change the name of the column from `postal-code` to `zipcode`.  Having a - in the name makes it\n",
    "  unusable as an attribute name, so we might want to fix this.  There will no longer be a\n",
    "  `zipcode` column in the newly returnd dataframe.\n",
    "- Add a new column to the new dataframe frame named `total`.  This column should contain the total\n",
    "    sales for each row for the 3 months of data present (`Jan`, `Feb` and `Mar`).\n",
    "- Count the total number of missing items in the state and zipcode attributes and return these\n",
    "  from the function."
   ]
  },
  {
   "cell_type": "code",
   "execution_count": 31,
   "metadata": {},
   "outputs": [
    {
     "name": "stderr",
     "output_type": "stream",
     "text": [
      "test_new_df (test_assg_tasks.test_task_4_dataframe_mutate.test_new_df)\n",
      "test_new_df ... FAIL\n",
      "test_num_missing_states (test_assg_tasks.test_task_4_dataframe_mutate.test_num_missing_states)\n",
      "test_num_missing_states ... FAIL\n",
      "test_num_missing_zipcodes (test_assg_tasks.test_task_4_dataframe_mutate.test_num_missing_zipcodes)\n",
      "test_num_missing_zipcodes ... FAIL\n",
      "\n",
      "======================================================================\n",
      "FAIL: test_new_df (test_assg_tasks.test_task_4_dataframe_mutate.test_new_df)\n",
      "test_new_df\n",
      "----------------------------------------------------------------------\n",
      "Traceback (most recent call last):\n",
      "  File \"/opt/conda/lib/python3.12/site-packages/twisted/internet/defer.py\", line 209, in maybeDeferred\n",
      "    result = f(*args, **kwargs)\n",
      "  File \"/opt/conda/lib/python3.12/site-packages/twisted/internet/utils.py\", line 227, in runWithWarningsSuppressed\n",
      "    raise exc_info[1].with_traceback(exc_info[2])\n",
      "  File \"/opt/conda/lib/python3.12/site-packages/twisted/internet/utils.py\", line 223, in runWithWarningsSuppressed\n",
      "    result = f(*a, **kw)\n",
      "  File \"/workspaces/assg01/src/test_assg_tasks.py\", line 158, in test_new_df\n",
      "    self.assertEqual(columns, expected_columns)\n",
      "  File \"/opt/conda/lib/python3.12/site-packages/twisted/trial/_synctest.py\", line 444, in assertEqual\n",
      "    super().assertEqual(first, second, msg)\n",
      "  File \"/opt/conda/lib/python3.12/unittest/case.py\", line 885, in assertEqual\n",
      "    assertion_func(first, second, msg=msg)\n",
      "  File \"/opt/conda/lib/python3.12/unittest/case.py\", line 1091, in assertListEqual\n",
      "    self.assertSequenceEqual(list1, list2, msg, seq_type=list)\n",
      "  File \"/opt/conda/lib/python3.12/unittest/case.py\", line 1073, in assertSequenceEqual\n",
      "    self.fail(msg)\n",
      "  File \"/opt/conda/lib/python3.12/site-packages/twisted/trial/_synctest.py\", line 381, in fail\n",
      "    raise self.failureException(msg)\n",
      "twisted.trial.unittest.FailTest: Lists differ: [] != ['account', 'name', 'street', 'city', 'sta[40 chars]tal']\n",
      "\n",
      "Second list contains 10 additional elements.\n",
      "First extra element 0:\n",
      "'account'\n",
      "\n",
      "- []\n",
      "+ ['account',\n",
      "+  'name',\n",
      "+  'street',\n",
      "+  'city',\n",
      "+  'state',\n",
      "+  'zipcode',\n",
      "+  'Jan',\n",
      "+  'Feb',\n",
      "+  'Mar',\n",
      "+  'total']\n",
      "\n",
      "======================================================================\n",
      "FAIL: test_num_missing_states (test_assg_tasks.test_task_4_dataframe_mutate.test_num_missing_states)\n",
      "test_num_missing_states\n",
      "----------------------------------------------------------------------\n",
      "Traceback (most recent call last):\n",
      "  File \"/opt/conda/lib/python3.12/site-packages/twisted/internet/defer.py\", line 209, in maybeDeferred\n",
      "    result = f(*args, **kwargs)\n",
      "  File \"/opt/conda/lib/python3.12/site-packages/twisted/internet/utils.py\", line 227, in runWithWarningsSuppressed\n",
      "    raise exc_info[1].with_traceback(exc_info[2])\n",
      "  File \"/opt/conda/lib/python3.12/site-packages/twisted/internet/utils.py\", line 223, in runWithWarningsSuppressed\n",
      "    result = f(*a, **kw)\n",
      "  File \"/workspaces/assg01/src/test_assg_tasks.py\", line 150, in test_num_missing_states\n",
      "    self.assertEqual(self.num_missing_states, 2)\n",
      "  File \"/opt/conda/lib/python3.12/site-packages/twisted/trial/_synctest.py\", line 444, in assertEqual\n",
      "    super().assertEqual(first, second, msg)\n",
      "  File \"/opt/conda/lib/python3.12/unittest/case.py\", line 885, in assertEqual\n",
      "    assertion_func(first, second, msg=msg)\n",
      "  File \"/opt/conda/lib/python3.12/unittest/case.py\", line 878, in _baseAssertEqual\n",
      "    raise self.failureException(msg)\n",
      "twisted.trial.unittest.FailTest: 0 != 2\n",
      "\n",
      "======================================================================\n",
      "FAIL: test_num_missing_zipcodes (test_assg_tasks.test_task_4_dataframe_mutate.test_num_missing_zipcodes)\n",
      "test_num_missing_zipcodes\n",
      "----------------------------------------------------------------------\n",
      "Traceback (most recent call last):\n",
      "  File \"/opt/conda/lib/python3.12/site-packages/twisted/internet/defer.py\", line 209, in maybeDeferred\n",
      "    result = f(*args, **kwargs)\n",
      "  File \"/opt/conda/lib/python3.12/site-packages/twisted/internet/utils.py\", line 227, in runWithWarningsSuppressed\n",
      "    raise exc_info[1].with_traceback(exc_info[2])\n",
      "  File \"/opt/conda/lib/python3.12/site-packages/twisted/internet/utils.py\", line 223, in runWithWarningsSuppressed\n",
      "    result = f(*a, **kw)\n",
      "  File \"/workspaces/assg01/src/test_assg_tasks.py\", line 153, in test_num_missing_zipcodes\n",
      "    self.assertEqual(self.num_missing_zipcodes, 1)\n",
      "  File \"/opt/conda/lib/python3.12/site-packages/twisted/trial/_synctest.py\", line 444, in assertEqual\n",
      "    super().assertEqual(first, second, msg)\n",
      "  File \"/opt/conda/lib/python3.12/unittest/case.py\", line 885, in assertEqual\n",
      "    assertion_func(first, second, msg=msg)\n",
      "  File \"/opt/conda/lib/python3.12/unittest/case.py\", line 878, in _baseAssertEqual\n",
      "    raise self.failureException(msg)\n",
      "twisted.trial.unittest.FailTest: 0 != 1\n",
      "\n",
      "----------------------------------------------------------------------\n",
      "Ran 3 tests in 0.022s\n",
      "\n",
      "FAILED (failures=3)\n"
     ]
    },
    {
     "data": {
      "text/plain": [
       "<unittest.runner.TextTestResult run=3 errors=0 failures=3>"
      ]
     },
     "execution_count": 31,
     "metadata": {},
     "output_type": "execute_result"
    }
   ],
   "source": [
    "# do not remove or modify the code in this cell\n",
    "run_unittests(['test_task_4_dataframe_mutate'])"
   ]
  },
  {
   "cell_type": "code",
   "execution_count": 32,
   "metadata": {},
   "outputs": [
    {
     "name": "stdout",
     "output_type": "stream",
     "text": [
      "Number of missing states  : 0\n",
      "Number of missing zipcodes: 0\n"
     ]
    }
   ],
   "source": [
    "# the following will run your function to mutate the dataframe column and determine number of missing values\n",
    "new_df, num_missing_states, num_missing_zipcodes = task_4_dataframe_mutate(df)\n",
    "print(f\"Number of missing states  : {num_missing_states}\")\n",
    "print(f\"Number of missing zipcodes: {num_missing_zipcodes}\")"
   ]
  },
  {
   "cell_type": "markdown",
   "metadata": {},
   "source": [
    "Finally plot the Jan, Feb, Mar and total sales data as bar plots using the `plot()` convenience function\n",
    "available from a Pandas `DataFrame` using your newly mutated dataframe.\n",
    "\n",
    "Label your x an y axis on your plot.  Also change the x tick labels to be the account numbers instead\n",
    "of 0,1,2,...14.  Also give the plot an appropriate title.  You will need to use matplotlib \n",
    "functions after you create your bar chart to add the labels and change the tic marks."
   ]
  },
  {
   "cell_type": "code",
   "execution_count": 33,
   "metadata": {},
   "outputs": [],
   "source": [
    "# create the asked for plot here using pandas convenience plot functions"
   ]
  },
  {
   "cell_type": "markdown",
   "metadata": {},
   "source": [
    "**Extra Credit**: Perhaps we would like to have our visualization sorted\n",
    "by the total sales.  Replot the bar plot but sort the account numbers by their\n",
    "total sales, so we can more easily see the accounts from the lowest sales to our\n",
    "highest sales."
   ]
  },
  {
   "cell_type": "code",
   "execution_count": 34,
   "metadata": {},
   "outputs": [],
   "source": [
    "# plot again but with the sorted data for extra credit"
   ]
  }
 ],
 "metadata": {
  "kernelspec": {
   "display_name": "Python 3 (ipykernel)",
   "language": "python",
   "name": "python3"
  },
  "language_info": {
   "codemirror_mode": {
    "name": "ipython",
    "version": 3
   },
   "file_extension": ".py",
   "mimetype": "text/x-python",
   "name": "python",
   "nbconvert_exporter": "python",
   "pygments_lexer": "ipython3",
   "version": "3.12.7"
  },
  "latex_envs": {
   "LaTeX_envs_menu_present": true,
   "autoclose": true,
   "autocomplete": true,
   "bibliofile": "biblio.bib",
   "cite_by": "apalike",
   "current_citInitial": 1,
   "eqLabelWithNumbers": true,
   "eqNumInitial": 1,
   "hotkeys": {
    "equation": "Ctrl-E",
    "itemize": "Ctrl-I"
   },
   "labels_anchors": false,
   "latex_user_defs": false,
   "report_style_numbering": false,
   "user_envs_cfg": false
  },
  "toc": {
   "base_numbering": 1,
   "nav_menu": {},
   "number_sections": true,
   "sideBar": true,
   "skip_h1_title": false,
   "title_cell": "Table of Contents",
   "title_sidebar": "Contents",
   "toc_cell": false,
   "toc_position": {},
   "toc_section_display": true,
   "toc_window_display": false
  },
  "varInspector": {
   "cols": {
    "lenName": 16,
    "lenType": 16,
    "lenVar": 40
   },
   "kernels_config": {
    "python": {
     "delete_cmd_postfix": "",
     "delete_cmd_prefix": "del ",
     "library": "var_list.py",
     "varRefreshCmd": "print(var_dic_list())"
    },
    "r": {
     "delete_cmd_postfix": ") ",
     "delete_cmd_prefix": "rm(",
     "library": "var_list.r",
     "varRefreshCmd": "cat(var_dic_list()) "
    }
   },
   "types_to_exclude": [
    "module",
    "function",
    "builtin_function_or_method",
    "instance",
    "_Feature"
   ],
   "window_display": false
  }
 },
 "nbformat": 4,
 "nbformat_minor": 4
}
